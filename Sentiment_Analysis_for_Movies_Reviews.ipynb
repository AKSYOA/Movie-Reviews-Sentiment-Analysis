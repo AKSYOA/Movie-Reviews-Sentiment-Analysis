{
 "nbformat": 4,
 "nbformat_minor": 0,
 "metadata": {
  "colab": {
   "provenance": [],
   "toc_visible": true
  },
  "kernelspec": {
   "name": "python3",
   "display_name": "Python 3"
  },
  "language_info": {
   "name": "python"
  }
 },
 "cells": [
  {
   "cell_type": "markdown",
   "source": [
    "# **Step 1: Reading & Exploring Data**"
   ],
   "metadata": {
    "id": "nU5SSlD071hY"
   }
  },
  {
   "cell_type": "code",
   "source": [
    "import os\n",
    "import matplotlib.pyplot as plt\n",
    "import numpy as np\n",
    "import pandas as pd\n",
    "import seaborn as sns\n",
    "import re\n",
    "import nltk\n",
    "from nltk.tokenize import word_tokenize\n",
    "from nltk.corpus import stopwords\n",
    "from nltk.stem.wordnet import WordNetLemmatizer\n",
    "from sklearn.model_selection import train_test_split\n",
    "from sklearn.feature_extraction.text import TfidfVectorizer\n",
    "from sklearn.naive_bayes import MultinomialNB\n",
    "from sklearn import metrics\n",
    "from sklearn.metrics import confusion_matrix\n",
    "from sklearn.linear_model import LogisticRegression\n",
    "from sklearn.metrics import ConfusionMatrixDisplay\n",
    "from sklearn.svm import SVC\n",
    "\n",
    "\n",
    "\n",
    "nltk.download('stopwords')\n",
    "nltk.download('wordnet')\n",
    "nltk.download('punkt')\n",
    "\n",
    "\n"
   ],
   "metadata": {
    "colab": {
     "base_uri": "https://localhost:8080/"
    },
    "id": "HqXsifMmHHfC",
    "outputId": "cac3ccc2-1a52-473b-8882-bd592d705688"
   },
   "execution_count": 1,
   "outputs": [
    {
     "name": "stderr",
     "output_type": "stream",
     "text": [
      "[nltk_data] Downloading package stopwords to\n",
      "[nltk_data]     C:\\Users\\DELL\\AppData\\Roaming\\nltk_data...\n",
      "[nltk_data]   Package stopwords is already up-to-date!\n",
      "[nltk_data] Downloading package wordnet to\n",
      "[nltk_data]     C:\\Users\\DELL\\AppData\\Roaming\\nltk_data...\n",
      "[nltk_data]   Package wordnet is already up-to-date!\n",
      "[nltk_data] Downloading package punkt to\n",
      "[nltk_data]     C:\\Users\\DELL\\AppData\\Roaming\\nltk_data...\n",
      "[nltk_data]   Package punkt is already up-to-date!\n"
     ]
    },
    {
     "data": {
      "text/plain": "True"
     },
     "execution_count": 1,
     "metadata": {},
     "output_type": "execute_result"
    }
   ]
  },
  {
   "cell_type": "code",
   "source": [
    "data_path = 'E:\\\\FCIS\\\\4thyear\\\\2nd_Term\\\\Natural Language Processing\\\\Sentiment Analysis - Movie Reviews\\\\dataset'\n",
    "\n",
    "positive_reviews = []\n",
    "negative_reviews = []\n",
    "\n",
    "for data_class in os.listdir(data_path):\n",
    "  for review in os.listdir(os.path.join(data_path, data_class)):\n",
    "    with open(os.path.join(data_path, data_class, review)) as f:\n",
    "      review_content = f.read().replace('\\n', '')\n",
    "\n",
    "      if data_class == 'pos':\n",
    "        positive_reviews.append(review_content)\n",
    "      else:\n",
    "        negative_reviews.append(review_content)"
   ],
   "metadata": {
    "id": "8Rdu5TXJ753R"
   },
   "execution_count": 2,
   "outputs": []
  },
  {
   "cell_type": "markdown",
   "source": [
    "**Review Sample**"
   ],
   "metadata": {
    "id": "mqPatCmM-Nj7"
   }
  },
  {
   "cell_type": "code",
   "source": [
    "print('Positive Review Sample')\n",
    "print(positive_reviews[0])\n",
    "print()\n",
    "print('Negative Review Sample')\n",
    "print(negative_reviews[15])"
   ],
   "metadata": {
    "colab": {
     "base_uri": "https://localhost:8080/"
    },
    "id": "3McAu0Xq-Tk5",
    "outputId": "f610c96a-4dfd-44bf-eba2-aca1371de76a"
   },
   "execution_count": 3,
   "outputs": [
    {
     "name": "stdout",
     "output_type": "stream",
     "text": [
      "Positive Review Sample\n",
      "films adapted from comic books have had plenty of success , whether they're about superheroes ( batman , superman , spawn ) , or geared toward kids ( casper ) or the arthouse crowd ( ghost world ) , but there's never really been a comic book like from hell before . for starters , it was created by alan moore ( and eddie campbell ) , who brought the medium to a whole new level in the mid '80s with a 12-part series called the watchmen . to say moore and campbell thoroughly researched the subject of jack the ripper would be like saying michael jackson is starting to look a little odd . the book ( or \" graphic novel , \" if you will ) is over 500 pages long and includes nearly 30 more that consist of nothing but footnotes . in other words , don't dismiss this film because of its source . if you can get past the whole comic book thing , you might find another stumbling block in from hell's directors , albert and allen hughes . getting the hughes brothers to direct this seems almost as ludicrous as casting carrot top in , well , anything , but riddle me this : who better to direct a film that's set in the ghetto and features really violent street crime than the mad geniuses behind menace ii society ? the ghetto in question is , of course , whitechapel in 1888 london's east end . it's a filthy , sooty place where the whores ( called \" unfortunates \" ) are starting to get a little nervous about this mysterious psychopath who has been carving through their profession with surgical precision . when the first stiff turns up , copper peter godley ( robbie coltrane , the world is not enough ) calls in inspector frederick abberline ( johnny depp , blow ) to crack the case . abberline , a widower , has prophetic dreams he unsuccessfully tries to quell with copious amounts of absinthe and opium . upon arriving in whitechapel , he befriends an unfortunate named mary kelly ( heather graham , say it isn't so ) and proceeds to investigate the horribly gruesome crimes that even the police surgeon can't stomach . i don't think anyone needs to be briefed on jack the ripper , so i won't go into the particulars here , other than to say moore and campbell have a unique and interesting theory about both the identity of the killer and the reasons he chooses to slay . in the comic , they don't bother cloaking the identity of the ripper , but screenwriters terry hayes ( vertical limit ) and rafael yglesias ( les mis ? rables ) do a good job of keeping him hidden from viewers until the very end . it's funny to watch the locals blindly point the finger of blame at jews and indians because , after all , an englishman could never be capable of committing such ghastly acts . and from hell's ending had me whistling the stonecutters song from the simpsons for days ( \" who holds back the electric car/who made steve guttenberg a star ? \" ) . don't worry - it'll all make sense when you see it . now onto from hell's appearance : it's certainly dark and bleak enough , and it's surprising to see how much more it looks like a tim burton film than planet of the apes did ( at times , it seems like sleepy hollow 2 ) . the print i saw wasn't completely finished ( both color and music had not been finalized , so no comments about marilyn manson ) , but cinematographer peter deming ( don't say a word ) ably captures the dreariness of victorian-era london and helped make the flashy killing scenes remind me of the crazy flashbacks in twin peaks , even though the violence in the film pales in comparison to that in the black-and-white comic . oscar winner martin childs' ( shakespeare in love ) production design turns the original prague surroundings into one creepy place . even the acting in from hell is solid , with the dreamy depp turning in a typically strong performance and deftly handling a british accent . ians holm ( joe gould's secret ) and richardson ( 102 dalmatians ) log in great supporting roles , but the big surprise here is graham . i cringed the first time she opened her mouth , imagining her attempt at an irish accent , but it actually wasn't half bad . the film , however , is all good . 2 : 00 - r for strong violence/gore , sexuality , language and drug content \n",
      "\n",
      "Negative Review Sample\n",
      "john carpenter makes b-movies . always has ( \" halloween , \" \" escape from new york , \" \" the thing \" ) and , by the looks of it ( \" they live , \" \" escape from l . a . , \" \" vampires \" ) , always will . carpenter's latest horror opus with a science fiction bent ( or science fiction outing with a schlock horror bent ) is the aptly-titled \" john carpenter's ghosts of mars \" ( in case , i suppose , you went looking for someone else's \" ghosts of mars \" ) . like all those films prefixed by the very possessive \" john carpenter's , \" \" ghosts of mars \" is an unashamed b-movie punctuated by a b-movie plot , b-movie actors , and b-movie special effects . in category one , above , we have a storyline that borders on idiotic ( and , at times , chaotic ) . dormant martians ( i . e . , swirling red gases ) awakened by meddling humans possess the souls of hapless mining colonists rendering them testy marilyn manson lookalikes . all this explained ( in flashback ) to some grand pooh-bah counsel by martian police official melanie ballard ( natasha henstridge , from the sub- \" species \" films ) , the only returnee on a silly-looking train . officer ballard went in to bring back incarcerated felon james \" desolation \" williams ; what she found was not a pretty picture . in the second category we have ms . henstridge , her blonde hair pulled back tightly and awkwardly into a ponytail , ice cube ( as the appropriately-named \" desolation \" ) , pam grier ( briefly , oddly--who wanted to work with whom i wonder ? ) , and a host of extras all assuming that the story and special effects were going to carry this film and therefore they didn't need to try too hard . in category number three we have , in addition to those swirling red gases and the silly-looking train , a couple of bird's-eye-view shots of a sprawling martian metropolis ( reddish also ) . state-of-the-art special effects have never been a carpenter trademark and once again the writer/director ( who seems to have no problem finding work , however ) doesn't waste any of the film's budget in that department .  \" ghosts of mars \" is lock , laughing stock , and barrel all your standard carpenter fare : dingy interiors , cluttered exteriors , inane dialogue , lots of leather , scarred , crazed-looking aliens , and lots and lots of weaponry . the film often and always explodes into warfare without warning--spontaneously , stupidly . carpenter might like to think he's made a western here but it's a western without any real heroes , villains , or border conflicts . it's just the shootouts minus a hissing snake plissken . i never thought i'd miss the guy but i do . it's not * all * the same , however . dubbed the \" one-note wonder \" for his minimalist music soundtracks , carpenter seems to have graduated from simplistic ( yet effective ) scoring by highlighting his action with loud , screeching guitar work . fortunately this drowns out a lot of the dialogue . the final exchange between henstridge and , er , cube though is both audible * and * priceless . mars has proven an infertile breeding ground for hollywood in the last year or so , what with the stillborn \" mission to mars \" and \" red planet \" ( with val kilmer ) .  \" ghosts of mars \" sadly adds to those disappointing returns ( in its opening weekend it was overshadowed by a bunch of sequels , among them \" american pie 2 \" and \" rush hour 2 \" ) . the irony is that the mars in carpenter's film feels sadly absent . there are occasional references to the red planet , of course , but the film might as well have been set in perth amboys than on earth's closest neighbor . two things keep \" john carpenter's ghosts of mars \" from getting a huge slap upside the head . 1 . henstridge keeps her top on ( miraculously ) , and 2 . the film doesn't pretend to be anything it's not . what that means , however , is that fans of superior , intelligent , grade a sci-fi/horror are singularly out of luck . \n"
     ]
    }
   ]
  },
  {
   "cell_type": "markdown",
   "source": [
    "**Data Distribution**"
   ],
   "metadata": {
    "id": "lv1Furpb-vzo"
   }
  },
  {
   "cell_type": "code",
   "source": [
    "class_labels = ['Positive', 'Negative']\n",
    "frequency = [len(positive_reviews), len(negative_reviews)]\n",
    "\n",
    "fig = plt.figure(figsize=(12, 6))\n",
    "plt.bar(class_labels, frequency)\n",
    "plt.xlabel('Classes')\n",
    "plt.ylabel('Frequency')\n",
    "plt.xticks(rotation = 90)\n",
    "plt.title('Data Classes Distribution')\n",
    "plt.show()"
   ],
   "metadata": {
    "colab": {
     "base_uri": "https://localhost:8080/",
     "height": 613
    },
    "id": "KGV9W9wC-jWQ",
    "outputId": "0ed50238-421d-4a37-c1f0-c48d6929446c"
   },
   "execution_count": 4,
   "outputs": [
    {
     "data": {
      "text/plain": "<Figure size 864x432 with 1 Axes>",
      "image/png": "[encoded data removed]"
     },
     "metadata": {},
     "output_type": "display_data"
    }
   ]
  },
  {
   "cell_type": "markdown",
   "source": [
    "**Review Words Count Distribution**"
   ],
   "metadata": {
    "id": "TruBLN5oCb57"
   }
  },
  {
   "cell_type": "code",
   "source": [
    "positive_reviews_words_count = []\n",
    "negative_reviews_words_count = []\n",
    "\n",
    "\n",
    "for i in range(len(positive_reviews)):\n",
    "  positive_reviews_words_count.append(len(positive_reviews[i].split()))\n",
    "  negative_reviews_words_count.append(len(negative_reviews[i].split()))\n",
    "\n",
    "\n",
    "sns.displot(positive_reviews_words_count)\n",
    "plt.xlabel(\"Positive Reviews Words Count\")\n",
    "sns.displot(negative_reviews_words_count)\n",
    "plt.xlabel(\"Negative Reviews Words Count\")\n",
    "\n",
    "\n",
    "plt.figure(figsize=(16, 8))\n",
    "plt.show()"
   ],
   "metadata": {
    "colab": {
     "base_uri": "https://localhost:8080/",
     "height": 1000
    },
    "id": "eLcpoVuhCpsK",
    "outputId": "71d3018a-c5b1-4c42-c17b-849621866c4b"
   },
   "execution_count": 5,
   "outputs": [
    {
     "data": {
      "text/plain": "<Figure size 360x360 with 1 Axes>",
      "image/png": "[encoded data removed]"
     },
     "metadata": {},
     "output_type": "display_data"
    },
    {
     "data": {
      "text/plain": "<Figure size 360x360 with 1 Axes>",
      "image/png": "[encoded data removed]"
     },
     "metadata": {},
     "output_type": "display_data"
    },
    {
     "data": {
      "text/plain": "<Figure size 1152x576 with 0 Axes>"
     },
     "metadata": {},
     "output_type": "display_data"
    }
   ]
  },
  {
   "cell_type": "markdown",
   "source": [
    "# **Step 2: Preprocessing**"
   ],
   "metadata": {
    "id": "8wSHhWXHA66g"
   }
  },
  {
   "cell_type": "code",
   "source": [
    "def tokenize_reviews(reviews):\n",
    "  tokens = []\n",
    "  for review in reviews:\n",
    "   tokens.append(word_tokenize(review))\n",
    "  return tokens"
   ],
   "metadata": {
    "id": "zf-Pdv5rK8XF"
   },
   "execution_count": 6,
   "outputs": []
  },
  {
   "cell_type": "code",
   "source": [
    "def remove_stop_words(reviews_tokens):\n",
    "  tokens = []\n",
    "  stop_words = set(stopwords.words('english'))\n",
    "  for token in reviews_tokens:\n",
    "    if token not in stop_words:\n",
    "      tokens.append(token)\n",
    "  return tokens"
   ],
   "metadata": {
    "id": "HsZ8WiHZHl7i"
   },
   "execution_count": 7,
   "outputs": []
  },
  {
   "cell_type": "code",
   "source": [
    "def lemmatize_tokens(reviews_tokens):\n",
    "  tokens = []\n",
    "  lemmatizer = WordNetLemmatizer()\n",
    "  for token in reviews_tokens:\n",
    "      tokens.append(lemmatizer.lemmatize(token))\n",
    "  return tokens"
   ],
   "metadata": {
    "id": "1P5wYLIdI5WN"
   },
   "execution_count": 8,
   "outputs": []
  },
  {
   "cell_type": "code",
   "source": [
    "def construct_review_string_from_tokens(tokens):\n",
    "  return ' '.join(tokens)"
   ],
   "metadata": {
    "id": "dPYe_xVaNBkM"
   },
   "execution_count": 9,
   "outputs": []
  },
  {
   "cell_type": "code",
   "source": [
    "def preProcess_Reviews(reviews):\n",
    "  reviews = [re.sub(r\"(?![\\s])\\W+\", \"\", review) for review in reviews]\n",
    "  reviews = tokenize_reviews(reviews)\n",
    "  reviews = [lemmatize_tokens(review) for review in reviews]\n",
    "  reviews = [remove_stop_words(review) for review in reviews]\n",
    "  reviews = [construct_review_string_from_tokens(review) for review in reviews]\n",
    "  return reviews"
   ],
   "metadata": {
    "id": "cBrqGqaDMXqu"
   },
   "execution_count": 10,
   "outputs": []
  },
  {
   "cell_type": "code",
   "source": [
    "positive_reviews = preProcess_Reviews(positive_reviews)\n",
    "negative_reviews = preProcess_Reviews(negative_reviews)"
   ],
   "metadata": {
    "id": "ie8z4O4PIR5S"
   },
   "execution_count": 11,
   "outputs": []
  },
  {
   "cell_type": "markdown",
   "source": [
    "# **Step 3: Data Preparation** (make data frame)"
   ],
   "metadata": {
    "id": "1pSidOhPONFZ"
   }
  },
  {
   "cell_type": "code",
   "source": [
    "Movies_reviews = positive_reviews + negative_reviews\n",
    "reviews_classes = np.append(np.ones(1000, dtype=int), np.zeros(1000, dtype=int))\n",
    "\n",
    "print(len(Movies_reviews))\n",
    "print(len(reviews_classes))\n",
    "\n",
    "data = {'reviews': Movies_reviews, 'sentiment': reviews_classes} # 1 for positive, 0 for negative\n",
    "df = pd.DataFrame(data)\n",
    "print(df)"
   ],
   "metadata": {
    "colab": {
     "base_uri": "https://localhost:8080/"
    },
    "id": "Bgmuwqj1OVEY",
    "outputId": "b02236ff-9318-4d8c-ae8e-cbde0797f5b0"
   },
   "execution_count": 12,
   "outputs": [
    {
     "name": "stdout",
     "output_type": "stream",
     "text": [
      "2000\n",
      "2000\n",
      "                                                reviews  sentiment\n",
      "0     film adapted comic book plenty success whether...          1\n",
      "1     every movie come along suspect studio every in...          1\n",
      "2     youve got mail work alot better deserves order...          1\n",
      "3     jaw rare film grab attention show single image...          1\n",
      "4     moviemaking lot like general manager nfl team ...          1\n",
      "...                                                 ...        ...\n",
      "1995  anything stigma taken warning releasing simila...          0\n",
      "1996  john boormans zardoz goofy cinematic debacle f...          0\n",
      "1997  kid hall acquired taste took least season watc...          0\n",
      "1998  wa time john carpenter wa great horror directo...          0\n",
      "1999  two party guy bob head haddaways dance hit lov...          0\n",
      "\n",
      "[2000 rows x 2 columns]\n"
     ]
    }
   ]
  },
  {
   "cell_type": "markdown",
   "source": [
    "# **Step 4: Feature Extraction**"
   ],
   "metadata": {
    "id": "IV5Xf4b1RCIY"
   }
  },
  {
   "cell_type": "markdown",
   "source": [
    "splitting data (70% train, 30% test)"
   ],
   "metadata": {
    "id": "ziayheNlE6gi"
   }
  },
  {
   "cell_type": "code",
   "source": [
    "X_train, X_test, Y_train, Y_test = train_test_split(\n",
    "    data['reviews'], data['sentiment'], test_size=0.3, shuffle=True)\n",
    "X_train[0]"
   ],
   "metadata": {
    "colab": {
     "base_uri": "https://localhost:8080/",
     "height": 226
    },
    "id": "7cmBPPflDl_P",
    "outputId": "544ba0fe-7ed9-4433-eac7-cb325eb3e718"
   },
   "execution_count": 13,
   "outputs": [
    {
     "data": {
      "text/plain": "'fact good thriller action movie doesnt need violence good worth watching take potential violence make audience bite nail kind violence could efficient global thermonuclear war potential violence premiss wargames built upon computer whizkid david usually contended hacking school computer change grade read advertisment upcoming computer game want first play instead getting computer protovision software accidentally come frontgate norad help jennifer girl biology class start play nice game nuclear war wopr war operation plan response topnotch computer time hardly faster computer remember 12 watching cinema wa efficent giving scare day hasnt changed course nuclear war seemed much something could actually happen back 1983 wouldnt surprised gave people nightmare hope still doe since still hear school kid hacking computer pentagon broderick sheedy fine young teenager although interest david remains mystery rest actor fault restricted script play onedimensional grownup david parent kind parent populate college comedy 1980s movie like secret admirer porkys zapped norad general beringer straight dr strangelove reason see movie enjoy far computer technology ha gone since day david us telephone calling friend calling computer modem kind device put headset far 56k modem guess kind 2400 bps modem kind technology find local technical museum big computer norad ha lot flashing light like see star trek old sfmovie hardly impressing compared get today lesson learn wargames 1 make sure secret backdoor military computer 2 thank whoever wa giving u graphical user interface use computer'"
     },
     "execution_count": 13,
     "metadata": {},
     "output_type": "execute_result"
    }
   ]
  },
  {
   "cell_type": "markdown",
   "source": [
    "Method 1 : TF-IDF"
   ],
   "metadata": {
    "id": "NGyDibZUO4Up"
   }
  },
  {
   "cell_type": "code",
   "source": [
    "tf_idf = TfidfVectorizer()\n",
    "X_train_tf = tf_idf.fit_transform(X_train)\n",
    "X_train_tf = tf_idf.transform(X_train)\n",
    "print(\"n_samples: %d, n_features: %d\" % X_train_tf.shape)\n"
   ],
   "metadata": {
    "colab": {
     "base_uri": "https://localhost:8080/"
    },
    "id": "Sn5DwgDPFKUJ",
    "outputId": "58e683ac-98df-487f-efef-e8dd3e5be467"
   },
   "execution_count": 14,
   "outputs": [
    {
     "name": "stdout",
     "output_type": "stream",
     "text": [
      "n_samples: 1400, n_features: 36960\n"
     ]
    }
   ]
  },
  {
   "cell_type": "code",
   "source": [
    "X_test_tf = tf_idf.transform(X_test)\n",
    "print(\"n_samples: %d, n_features: %d\" % X_test_tf.shape)"
   ],
   "metadata": {
    "colab": {
     "base_uri": "https://localhost:8080/"
    },
    "id": "cNoKV5HQG7jZ",
    "outputId": "c801cfd0-1a80-4092-8f4e-6415807f402a"
   },
   "execution_count": 15,
   "outputs": [
    {
     "name": "stdout",
     "output_type": "stream",
     "text": [
      "n_samples: 600, n_features: 36960\n"
     ]
    }
   ]
  },
  {
   "cell_type": "markdown",
   "source": [
    "# **Step 5: Modeling**"
   ],
   "metadata": {
    "id": "iT48_YlZL2J9"
   }
  },
  {
   "cell_type": "markdown",
   "source": [
    "**Model 1 : Naive Bayes Classifier**"
   ],
   "metadata": {
    "id": "LeGkA53aMOPc"
   }
  },
  {
   "cell_type": "code",
   "source": [
    "naive_bayes_classifier = MultinomialNB()\n",
    "naive_bayes_classifier.fit(X_train_tf, Y_train)\n",
    "\n",
    "y_pred = naive_bayes_classifier.predict(X_test_tf)"
   ],
   "metadata": {
    "id": "f0TnkpYpITmT"
   },
   "execution_count": 16,
   "outputs": []
  },
  {
   "cell_type": "code",
   "source": [
    "class_report = metrics.classification_report(Y_test, y_pred, target_names=['Positive', 'Negative'])\n",
    "print(class_report)\n",
    "\n",
    "matrix = confusion_matrix(Y_test,y_pred)\n",
    "\n",
    "disp = ConfusionMatrixDisplay(confusion_matrix=matrix,\n",
    "                               display_labels=['positive review','negative review'])\n",
    "\n",
    "disp.plot()\n",
    "\n",
    "acc = metrics.accuracy_score(Y_test,y_pred)\n",
    "print(\"Naive Bayes Classifier Accuracy: \", acc)"
   ],
   "metadata": {
    "colab": {
     "base_uri": "https://localhost:8080/",
     "height": 623
    },
    "id": "GttN5LYIIWtD",
    "outputId": "40734a8c-fe8b-41ca-b0f0-7bd713627864"
   },
   "execution_count": 17,
   "outputs": [
    {
     "name": "stdout",
     "output_type": "stream",
     "text": [
      "              precision    recall  f1-score   support\n",
      "\n",
      "    Positive       0.91      0.67      0.77       320\n",
      "    Negative       0.71      0.93      0.80       280\n",
      "\n",
      "    accuracy                           0.79       600\n",
      "   macro avg       0.81      0.80      0.79       600\n",
      "weighted avg       0.82      0.79      0.79       600\n",
      "\n",
      "Naive Bayes Classifier Accuracy:  0.79\n"
     ]
    },
    {
     "data": {
      "text/plain": "<Figure size 432x288 with 2 Axes>",
      "image/png": "[encoded data removed]"
     },
     "metadata": {},
     "output_type": "display_data"
    }
   ]
  },
  {
   "cell_type": "markdown",
   "source": [
    "**Model 2 : Logistic Regression Classifier**"
   ],
   "metadata": {
    "id": "RcwCdTLGdrhm"
   }
  },
  {
   "cell_type": "code",
   "source": [
    "logistic_classifier = LogisticRegression()\n",
    "logistic_classifier.fit(X_train_tf, Y_train)\n",
    "\n",
    "y_pred2 = logistic_classifier.predict(X_test_tf)"
   ],
   "metadata": {
    "id": "MLCbeuTueexN"
   },
   "execution_count": 18,
   "outputs": []
  },
  {
   "cell_type": "code",
   "source": [
    "class_report2 = metrics.classification_report(Y_test, y_pred2, target_names=['Positive', 'Negative'])\n",
    "print(class_report2)\n",
    "\n",
    "matrix2 = confusion_matrix(Y_test,y_pred2)\n",
    "\n",
    "disp2 = ConfusionMatrixDisplay(confusion_matrix=matrix2,\n",
    "                               display_labels=['positive review','negative review'])\n",
    "\n",
    "disp2.plot()\n",
    "\n",
    "acc2 = metrics.accuracy_score(Y_test,y_pred2)\n",
    "print(\"Logistic Regression Classifier Accuracy: \", acc2)"
   ],
   "metadata": {
    "colab": {
     "base_uri": "https://localhost:8080/",
     "height": 623
    },
    "id": "3j-FILFVe_Oj",
    "outputId": "b8d3ce43-ff72-485b-9b8a-d31238c5bae5"
   },
   "execution_count": 19,
   "outputs": [
    {
     "name": "stdout",
     "output_type": "stream",
     "text": [
      "              precision    recall  f1-score   support\n",
      "\n",
      "    Positive       0.90      0.79      0.84       320\n",
      "    Negative       0.79      0.90      0.84       280\n",
      "\n",
      "    accuracy                           0.84       600\n",
      "   macro avg       0.84      0.84      0.84       600\n",
      "weighted avg       0.85      0.84      0.84       600\n",
      "\n",
      "Logistic Regression Classifier Accuracy:  0.84\n"
     ]
    },
    {
     "data": {
      "text/plain": "<Figure size 432x288 with 2 Axes>",
      "image/png": "[encoded data removed]"
     },
     "metadata": {},
     "output_type": "display_data"
    }
   ]
  },
  {
   "cell_type": "markdown",
   "source": [
    "**Model 3 : SVM**"
   ],
   "metadata": {
    "id": "GKrwUZtUfbXd"
   }
  },
  {
   "cell_type": "code",
   "source": [
    "svm_classifier = SVC()\n",
    "svm_classifier.fit(X_train_tf, Y_train)\n",
    "\n",
    "y_pred3 = svm_classifier.predict(X_test_tf)"
   ],
   "metadata": {
    "id": "TZqPoLqufeFZ"
   },
   "execution_count": 20,
   "outputs": []
  },
  {
   "cell_type": "code",
   "source": [
    "class_report3 = metrics.classification_report(Y_test, y_pred3, target_names=['Positive', 'Negative'])\n",
    "print(class_report3)\n",
    "\n",
    "matrix3 = confusion_matrix(Y_test,y_pred3)\n",
    "\n",
    "disp3 = ConfusionMatrixDisplay(confusion_matrix=matrix3,\n",
    "                               display_labels=['positive review','negative review'])\n",
    "\n",
    "disp3.plot()\n",
    "\n",
    "acc3 = metrics.accuracy_score(Y_test,y_pred3)\n",
    "print(\"SVM Classifier Accuracy: \", acc3)"
   ],
   "metadata": {
    "colab": {
     "base_uri": "https://localhost:8080/",
     "height": 623
    },
    "id": "c4Xz-4lNfuCY",
    "outputId": "a5074d50-b511-487d-dc86-59915d05f626"
   },
   "execution_count": 21,
   "outputs": [
    {
     "name": "stdout",
     "output_type": "stream",
     "text": [
      "              precision    recall  f1-score   support\n",
      "\n",
      "    Positive       0.87      0.80      0.83       320\n",
      "    Negative       0.79      0.86      0.82       280\n",
      "\n",
      "    accuracy                           0.83       600\n",
      "   macro avg       0.83      0.83      0.83       600\n",
      "weighted avg       0.83      0.83      0.83       600\n",
      "\n",
      "SVM Classifier Accuracy:  0.8266666666666667\n"
     ]
    },
    {
     "data": {
      "text/plain": "<Figure size 432x288 with 2 Axes>",
      "image/png": "[encoded data removed]"
     },
     "metadata": {},
     "output_type": "display_data"
    }
   ]
  },
  {
   "cell_type": "markdown",
   "source": [
    "**Accuracy Summary**"
   ],
   "metadata": {
    "id": "hpRnozyGf9dy"
   }
  },
  {
   "cell_type": "code",
   "source": [
    "models = ['Naive Bayes', 'Logistic Regression', 'SVM']\n",
    "accuracies = [acc, acc2, acc3]\n",
    "\n",
    "fig = plt.figure(figsize=(12, 6))\n",
    "plt.bar(models, accuracies)\n",
    "plt.xlabel('Models')\n",
    "plt.ylabel('Accuracy')\n",
    "plt.xticks(rotation = 90)\n",
    "plt.title('Accuracy Summary')\n",
    "plt.show()"
   ],
   "metadata": {
    "colab": {
     "base_uri": "https://localhost:8080/",
     "height": 683
    },
    "id": "Fu7BY4-LgFUY",
    "outputId": "4ed84ccc-3903-49ef-e97e-df8b8c32199d"
   },
   "execution_count": 22,
   "outputs": [
    {
     "data": {
      "text/plain": "<Figure size 864x432 with 1 Axes>",
      "image/png": "[encoded data removed]"
     },
     "metadata": {},
     "output_type": "display_data"
    }
   ]
  }
 ]
}
